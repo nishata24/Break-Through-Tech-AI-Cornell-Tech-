{
 "cells": [
  {
   "cell_type": "markdown",
   "metadata": {},
   "source": [
    "# Implement Your Machine Learning Project Plan"
   ]
  },
  {
   "cell_type": "markdown",
   "metadata": {},
   "source": [
    "In this lab you will implement the machine learning project plan you created in the assignment. You will:\n",
    "\n",
    "1. Load your data set and save it to a Pandas DataFrame.\n",
    "2. Create features and a label, and prepare your data for your model.\n",
    "3. Fit your model to the training data and evaluate your model. \n",
    "4. Show how you've improved upon your baseline model."
   ]
  },
  {
   "cell_type": "markdown",
   "metadata": {},
   "source": [
    "### Import Packages\n",
    "\n",
    "Before you get started, import a few packages."
   ]
  },
  {
   "cell_type": "code",
   "execution_count": 8,
   "metadata": {},
   "outputs": [],
   "source": [
    "import pandas as pd\n",
    "import numpy as np\n",
    "import os \n",
    "import matplotlib.pyplot as plt\n",
    "import seaborn as sns"
   ]
  },
  {
   "cell_type": "markdown",
   "metadata": {},
   "source": [
    "<b>Task:</b> In the code cell below, import the additional packages that you will need for this task (only import packages that you have used in this course)."
   ]
  },
  {
   "cell_type": "code",
   "execution_count": 9,
   "metadata": {},
   "outputs": [],
   "source": [
    "# YOUR CODE HERE\n",
    "from sklearn.model_selection import train_test_split, cross_val_score\n",
    "from sklearn.model_selection import GridSearchCV\n",
    "from sklearn.linear_model import LinearRegression\n",
    "from sklearn.tree import DecisionTreeRegressor\n",
    "from sklearn.ensemble import RandomForestRegressor\n",
    "from sklearn.metrics import mean_squared_error, r2_score, accuracy_score"
   ]
  },
  {
   "cell_type": "markdown",
   "metadata": {},
   "source": [
    "## Part 1: Load the Data Set\n",
    "\n",
    "\n",
    "You have chosen to work with one of three data sets. The data sets are located in a folder named \"data.\" The file names of the three data sets are as follows:\n",
    "\n",
    "* The \"adult\" data set that contains Census information from 1994 is located in file `adultDataFull.csv`\n",
    "* The airbnb NYC \"listings\" data set is located in file  `airbnbListingsData.csv`\n",
    "* The World Happiness Report (WHR) data set is location in file `WHR2018Chapter2OnlineData.csv`\n",
    "\n",
    "<b>Task:</b> In the code cell below, use the same method you have been using to load your data using `pd.read_csv()` and save it to DataFrame `df`."
   ]
  },
  {
   "cell_type": "code",
   "execution_count": 10,
   "metadata": {},
   "outputs": [
    {
     "data": {
      "text/html": [
       "<div>\n",
       "<style scoped>\n",
       "    .dataframe tbody tr th:only-of-type {\n",
       "        vertical-align: middle;\n",
       "    }\n",
       "\n",
       "    .dataframe tbody tr th {\n",
       "        vertical-align: top;\n",
       "    }\n",
       "\n",
       "    .dataframe thead th {\n",
       "        text-align: right;\n",
       "    }\n",
       "</style>\n",
       "<table border=\"1\" class=\"dataframe\">\n",
       "  <thead>\n",
       "    <tr style=\"text-align: right;\">\n",
       "      <th></th>\n",
       "      <th>country</th>\n",
       "      <th>year</th>\n",
       "      <th>Life Ladder</th>\n",
       "      <th>Log GDP per capita</th>\n",
       "      <th>Social support</th>\n",
       "      <th>Healthy life expectancy at birth</th>\n",
       "      <th>Freedom to make life choices</th>\n",
       "      <th>Generosity</th>\n",
       "      <th>Perceptions of corruption</th>\n",
       "      <th>Positive affect</th>\n",
       "      <th>Negative affect</th>\n",
       "      <th>Confidence in national government</th>\n",
       "      <th>Democratic Quality</th>\n",
       "      <th>Delivery Quality</th>\n",
       "      <th>Standard deviation of ladder by country-year</th>\n",
       "      <th>Standard deviation/Mean of ladder by country-year</th>\n",
       "      <th>GINI index (World Bank estimate)</th>\n",
       "      <th>GINI index (World Bank estimate), average 2000-15</th>\n",
       "      <th>gini of household income reported in Gallup, by wp5-year</th>\n",
       "    </tr>\n",
       "  </thead>\n",
       "  <tbody>\n",
       "    <tr>\n",
       "      <th>14</th>\n",
       "      <td>Albania</td>\n",
       "      <td>2012</td>\n",
       "      <td>5.510124</td>\n",
       "      <td>9.246649</td>\n",
       "      <td>0.784502</td>\n",
       "      <td>68.028885</td>\n",
       "      <td>0.601512</td>\n",
       "      <td>-0.174559</td>\n",
       "      <td>0.847675</td>\n",
       "      <td>0.606636</td>\n",
       "      <td>0.271393</td>\n",
       "      <td>0.364894</td>\n",
       "      <td>-0.060784</td>\n",
       "      <td>-0.328862</td>\n",
       "      <td>1.921203</td>\n",
       "      <td>0.348668</td>\n",
       "      <td>0.290</td>\n",
       "      <td>0.303250</td>\n",
       "      <td>0.568153</td>\n",
       "    </tr>\n",
       "    <tr>\n",
       "      <th>33</th>\n",
       "      <td>Argentina</td>\n",
       "      <td>2009</td>\n",
       "      <td>6.424133</td>\n",
       "      <td>9.750825</td>\n",
       "      <td>0.918693</td>\n",
       "      <td>66.410309</td>\n",
       "      <td>0.636646</td>\n",
       "      <td>-0.129523</td>\n",
       "      <td>0.884742</td>\n",
       "      <td>0.863786</td>\n",
       "      <td>0.236901</td>\n",
       "      <td>0.273822</td>\n",
       "      <td>0.023821</td>\n",
       "      <td>-0.570944</td>\n",
       "      <td>2.067742</td>\n",
       "      <td>0.321871</td>\n",
       "      <td>0.453</td>\n",
       "      <td>0.476067</td>\n",
       "      <td>0.368422</td>\n",
       "    </tr>\n",
       "    <tr>\n",
       "      <th>34</th>\n",
       "      <td>Argentina</td>\n",
       "      <td>2010</td>\n",
       "      <td>6.441067</td>\n",
       "      <td>9.836924</td>\n",
       "      <td>0.926799</td>\n",
       "      <td>66.552177</td>\n",
       "      <td>0.730258</td>\n",
       "      <td>-0.125792</td>\n",
       "      <td>0.854695</td>\n",
       "      <td>0.846136</td>\n",
       "      <td>0.210975</td>\n",
       "      <td>0.351856</td>\n",
       "      <td>0.138446</td>\n",
       "      <td>-0.469284</td>\n",
       "      <td>2.107838</td>\n",
       "      <td>0.327250</td>\n",
       "      <td>0.445</td>\n",
       "      <td>0.476067</td>\n",
       "      <td>0.366742</td>\n",
       "    </tr>\n",
       "    <tr>\n",
       "      <th>35</th>\n",
       "      <td>Argentina</td>\n",
       "      <td>2011</td>\n",
       "      <td>6.775805</td>\n",
       "      <td>9.884781</td>\n",
       "      <td>0.889073</td>\n",
       "      <td>66.694588</td>\n",
       "      <td>0.815802</td>\n",
       "      <td>-0.174472</td>\n",
       "      <td>0.754646</td>\n",
       "      <td>0.840048</td>\n",
       "      <td>0.231855</td>\n",
       "      <td>0.607538</td>\n",
       "      <td>0.251968</td>\n",
       "      <td>-0.442329</td>\n",
       "      <td>1.987599</td>\n",
       "      <td>0.293338</td>\n",
       "      <td>0.436</td>\n",
       "      <td>0.476067</td>\n",
       "      <td>0.347596</td>\n",
       "    </tr>\n",
       "    <tr>\n",
       "      <th>36</th>\n",
       "      <td>Argentina</td>\n",
       "      <td>2012</td>\n",
       "      <td>6.468387</td>\n",
       "      <td>9.863960</td>\n",
       "      <td>0.901776</td>\n",
       "      <td>66.836693</td>\n",
       "      <td>0.747498</td>\n",
       "      <td>-0.148023</td>\n",
       "      <td>0.816546</td>\n",
       "      <td>0.856516</td>\n",
       "      <td>0.272219</td>\n",
       "      <td>0.418255</td>\n",
       "      <td>0.199125</td>\n",
       "      <td>-0.572653</td>\n",
       "      <td>2.098197</td>\n",
       "      <td>0.324377</td>\n",
       "      <td>0.425</td>\n",
       "      <td>0.476067</td>\n",
       "      <td>0.317217</td>\n",
       "    </tr>\n",
       "  </tbody>\n",
       "</table>\n",
       "</div>"
      ],
      "text/plain": [
       "      country  year  Life Ladder  Log GDP per capita  Social support  \\\n",
       "14    Albania  2012     5.510124            9.246649        0.784502   \n",
       "33  Argentina  2009     6.424133            9.750825        0.918693   \n",
       "34  Argentina  2010     6.441067            9.836924        0.926799   \n",
       "35  Argentina  2011     6.775805            9.884781        0.889073   \n",
       "36  Argentina  2012     6.468387            9.863960        0.901776   \n",
       "\n",
       "    Healthy life expectancy at birth  Freedom to make life choices  \\\n",
       "14                         68.028885                      0.601512   \n",
       "33                         66.410309                      0.636646   \n",
       "34                         66.552177                      0.730258   \n",
       "35                         66.694588                      0.815802   \n",
       "36                         66.836693                      0.747498   \n",
       "\n",
       "    Generosity  Perceptions of corruption  Positive affect  Negative affect  \\\n",
       "14   -0.174559                   0.847675         0.606636         0.271393   \n",
       "33   -0.129523                   0.884742         0.863786         0.236901   \n",
       "34   -0.125792                   0.854695         0.846136         0.210975   \n",
       "35   -0.174472                   0.754646         0.840048         0.231855   \n",
       "36   -0.148023                   0.816546         0.856516         0.272219   \n",
       "\n",
       "    Confidence in national government  Democratic Quality  Delivery Quality  \\\n",
       "14                           0.364894           -0.060784         -0.328862   \n",
       "33                           0.273822            0.023821         -0.570944   \n",
       "34                           0.351856            0.138446         -0.469284   \n",
       "35                           0.607538            0.251968         -0.442329   \n",
       "36                           0.418255            0.199125         -0.572653   \n",
       "\n",
       "    Standard deviation of ladder by country-year  \\\n",
       "14                                      1.921203   \n",
       "33                                      2.067742   \n",
       "34                                      2.107838   \n",
       "35                                      1.987599   \n",
       "36                                      2.098197   \n",
       "\n",
       "    Standard deviation/Mean of ladder by country-year  \\\n",
       "14                                           0.348668   \n",
       "33                                           0.321871   \n",
       "34                                           0.327250   \n",
       "35                                           0.293338   \n",
       "36                                           0.324377   \n",
       "\n",
       "    GINI index (World Bank estimate)  \\\n",
       "14                             0.290   \n",
       "33                             0.453   \n",
       "34                             0.445   \n",
       "35                             0.436   \n",
       "36                             0.425   \n",
       "\n",
       "    GINI index (World Bank estimate), average 2000-15  \\\n",
       "14                                           0.303250   \n",
       "33                                           0.476067   \n",
       "34                                           0.476067   \n",
       "35                                           0.476067   \n",
       "36                                           0.476067   \n",
       "\n",
       "    gini of household income reported in Gallup, by wp5-year  \n",
       "14                                           0.568153         \n",
       "33                                           0.368422         \n",
       "34                                           0.366742         \n",
       "35                                           0.347596         \n",
       "36                                           0.317217         "
      ]
     },
     "execution_count": 10,
     "metadata": {},
     "output_type": "execute_result"
    }
   ],
   "source": [
    "# YOUR CODE HERE\n",
    "WHRDataSet_filename = os.path.join(os.getcwd(), \"data\", \"WHR2018Chapter2OnlineData.csv\")\n",
    "df = pd.read_csv(WHRDataSet_filename, header = 0)\n",
    "df.dropna(inplace = True)\n",
    "df.head()"
   ]
  },
  {
   "cell_type": "markdown",
   "metadata": {},
   "source": [
    "## Part 2: Implement Your Project Plan\n",
    "\n",
    "<b>Task:</b> Use the rest of this notebook to carry out your project plan. Add code cells below and populate the notebook with commentary, code, analyses, results, and figures as you see fit."
   ]
  },
  {
   "cell_type": "code",
   "execution_count": 12,
   "metadata": {},
   "outputs": [],
   "source": [
    "# YOUR CODE HERE\n",
    "y = df['Log GDP per capita']\n",
    "X = df[['Life Ladder', 'Freedom to make life choices', 'Social support', 'Confidence in national government']].astype(int)\n"
   ]
  },
  {
   "cell_type": "code",
   "execution_count": 42,
   "metadata": {},
   "outputs": [],
   "source": [
    "X_train, X_test, y_train, y_test = train_test_split(X, y, test_size=0.30, random_state=1234)\n"
   ]
  },
  {
   "cell_type": "code",
   "execution_count": 43,
   "metadata": {},
   "outputs": [],
   "source": [
    "#Implement RF model\n",
    "rf_model = RandomForestRegressor()\n",
    "rf_model.fit(X_train, y_train)\n",
    "y_rf_pred = rf_model.predict(X_test)\n"
   ]
  },
  {
   "cell_type": "code",
   "execution_count": 44,
   "metadata": {},
   "outputs": [
    {
     "name": "stdout",
     "output_type": "stream",
     "text": [
      "Root Mean Squared Error: 0.7088988299301084\n",
      "R2: 0.3249225930288354\n"
     ]
    }
   ],
   "source": [
    "#check performance\n",
    "rf_rmse = mean_squared_error(y_test, y_rf_pred, squared = False)\n",
    "rf_r2 = r2_score(y_test, y_rf_pred)\n",
    "print('Root Mean Squared Error: {0}'.format(rf_rmse))\n",
    "print('R2: {0}'.format(rf_r2)) "
   ]
  },
  {
   "cell_type": "code",
   "execution_count": 45,
   "metadata": {},
   "outputs": [],
   "source": [
    "param_grid = {'max_depth': [2, 4, 8, 16, 32], 'n_estimators': [20, 40, 60, 80, 100, 120]}"
   ]
  },
  {
   "cell_type": "code",
   "execution_count": 46,
   "metadata": {},
   "outputs": [
    {
     "data": {
      "text/plain": [
       "{'max_depth': 16, 'n_estimators': 20}"
      ]
     },
     "execution_count": 46,
     "metadata": {},
     "output_type": "execute_result"
    }
   ],
   "source": [
    "#Find best parameters\n",
    "rf_model = RandomForestRegressor()\n",
    "rf_model_grid = GridSearchCV(rf_model, param_grid, cv = 3, scoring = 'neg_root_mean_squared_error')\n",
    "rf_model_grid_search = rf_model_grid.fit(X_train, y_train)\n",
    "rf_model_best_params = {'max_depth':rf_model_grid.best_estimator_.max_depth, 'n_estimators':rf_model_grid.best_estimator_.n_estimators}\n",
    "rf_model_best_params"
   ]
  },
  {
   "cell_type": "code",
   "execution_count": 47,
   "metadata": {},
   "outputs": [],
   "source": [
    "#Implement RF model with best parameters\n",
    "rf_model = RandomForestRegressor(max_depth = 16, n_estimators = 20)\n",
    "rf_model.fit(X_train, y_train)\n",
    "y_rf_pred = rf_model.predict(X_test)"
   ]
  },
  {
   "cell_type": "code",
   "execution_count": 48,
   "metadata": {},
   "outputs": [
    {
     "name": "stdout",
     "output_type": "stream",
     "text": [
      "Root Mean Squared Error: 0.7074437029265652\n",
      "R2: 0.3276911550178654\n"
     ]
    }
   ],
   "source": [
    "#check performance\n",
    "rf_rmse = mean_squared_error(y_test, y_rf_pred, squared = False)\n",
    "rf_r2 = r2_score(y_test, y_rf_pred)\n",
    "print('Root Mean Squared Error: {0}'.format(rf_rmse))\n",
    "print('R2: {0}'.format(rf_r2)) "
   ]
  },
  {
   "cell_type": "markdown",
   "metadata": {},
   "source": [
    "For this lab, we chose to work with the World Happiness Report dattaset and decided to predict log GDP per capita based on life ladder, social support, freedom to make life choices, and confidence in national government. For a linear regression model, the RMSE was 0.67 and the R2 value was 0.39. For a gradient boosting regression model, the RMSE was 0.41 and the R2 value was 0.44. For a random forest regression model, the RMSE was 0.71 and the R2 value was 0.33. For a KNN model, the RMSE was 0.70 and the R2 value was 0.33. It looks like the gradient boosting model performed the best as the RMSE was the lowest while the R2 value was the highest. "
   ]
  },
  {
   "cell_type": "code",
   "execution_count": null,
   "metadata": {},
   "outputs": [],
   "source": []
  }
 ],
 "metadata": {
  "kernelspec": {
   "display_name": "Python 3",
   "language": "python",
   "name": "python3"
  },
  "language_info": {
   "codemirror_mode": {
    "name": "ipython",
    "version": 3
   },
   "file_extension": ".py",
   "mimetype": "text/x-python",
   "name": "python",
   "nbconvert_exporter": "python",
   "pygments_lexer": "ipython3",
   "version": "3.6.9"
  },
  "toc": {
   "base_numbering": 1,
   "nav_menu": {},
   "number_sections": false,
   "sideBar": true,
   "skip_h1_title": false,
   "title_cell": "Table of Contents",
   "title_sidebar": "Contents",
   "toc_cell": false,
   "toc_position": {},
   "toc_section_display": true,
   "toc_window_display": false
  },
  "varInspector": {
   "cols": {
    "lenName": 16,
    "lenType": 16,
    "lenVar": 40
   },
   "kernels_config": {
    "python": {
     "delete_cmd_postfix": "",
     "delete_cmd_prefix": "del ",
     "library": "var_list.py",
     "varRefreshCmd": "print(var_dic_list())"
    },
    "r": {
     "delete_cmd_postfix": ") ",
     "delete_cmd_prefix": "rm(",
     "library": "var_list.r",
     "varRefreshCmd": "cat(var_dic_list()) "
    }
   },
   "types_to_exclude": [
    "module",
    "function",
    "builtin_function_or_method",
    "instance",
    "_Feature"
   ],
   "window_display": false
  }
 },
 "nbformat": 4,
 "nbformat_minor": 2
}
